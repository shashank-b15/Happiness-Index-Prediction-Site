{
 "cells": [
  {
   "cell_type": "code",
   "execution_count": 1,
   "metadata": {
    "colab": {
     "base_uri": "https://localhost:8080/",
     "height": 404
    },
    "executionInfo": {
     "elapsed": 40,
     "status": "error",
     "timestamp": 1624343224792,
     "user": {
      "displayName": "hyd java",
      "photoUrl": "https://lh3.googleusercontent.com/a-/AOh14Gi_GOMKEZ6q0rnhev9mNoGwytWloL0T5AZ_3oEv=s64",
      "userId": "11252920809288514062"
     },
     "user_tz": -330
    },
    "id": "c8krkqbJJoxn",
    "outputId": "ec5a3586-1cc4-455f-cb1d-0b437ca15730"
   },
   "outputs": [],
   "source": [
    "import warnings\n",
    "warnings.filterwarnings('ignore')\n",
    "import pandas as pd \n",
    "import numpy as np\n",
    "import matplotlib.pyplot as plt\n",
    "import seaborn as sns\n",
    " \n",
    " \n",
    " \n",
    "data2=pd.read_csv('Teachers_dataset.csv')"
   ]
  },
  {
   "cell_type": "code",
   "execution_count": 2,
   "metadata": {
    "id": "G3wMRl-YJoxv"
   },
   "outputs": [
    {
     "data": {
      "text/html": [
       "<div>\n",
       "<style scoped>\n",
       "    .dataframe tbody tr th:only-of-type {\n",
       "        vertical-align: middle;\n",
       "    }\n",
       "\n",
       "    .dataframe tbody tr th {\n",
       "        vertical-align: top;\n",
       "    }\n",
       "\n",
       "    .dataframe thead th {\n",
       "        text-align: right;\n",
       "    }\n",
       "</style>\n",
       "<table border=\"1\" class=\"dataframe\">\n",
       "  <thead>\n",
       "    <tr style=\"text-align: right;\">\n",
       "      <th></th>\n",
       "      <th>Salary</th>\n",
       "      <th>Learning</th>\n",
       "      <th>Infra</th>\n",
       "      <th>Experience</th>\n",
       "      <th>School</th>\n",
       "      <th>Activity_based</th>\n",
       "      <th>English</th>\n",
       "      <th>Happiness</th>\n",
       "    </tr>\n",
       "  </thead>\n",
       "  <tbody>\n",
       "    <tr>\n",
       "      <th>0</th>\n",
       "      <td>Always</td>\n",
       "      <td>well-designed</td>\n",
       "      <td>excellent</td>\n",
       "      <td>10+</td>\n",
       "      <td>10+</td>\n",
       "      <td>never</td>\n",
       "      <td>excellent</td>\n",
       "      <td>2.430043</td>\n",
       "    </tr>\n",
       "    <tr>\n",
       "      <th>1</th>\n",
       "      <td>Sometimes</td>\n",
       "      <td>well-designed</td>\n",
       "      <td>poor</td>\n",
       "      <td>0-5</td>\n",
       "      <td>05-Oct</td>\n",
       "      <td>never</td>\n",
       "      <td>better</td>\n",
       "      <td>7.268561</td>\n",
       "    </tr>\n",
       "    <tr>\n",
       "      <th>2</th>\n",
       "      <td>Sometimes</td>\n",
       "      <td>moderately-designed</td>\n",
       "      <td>excellent</td>\n",
       "      <td>0-5</td>\n",
       "      <td>10+</td>\n",
       "      <td>sometimes</td>\n",
       "      <td>better</td>\n",
       "      <td>8.788224</td>\n",
       "    </tr>\n",
       "    <tr>\n",
       "      <th>3</th>\n",
       "      <td>Never</td>\n",
       "      <td>moderately-designed</td>\n",
       "      <td>excellent</td>\n",
       "      <td>05-Oct</td>\n",
       "      <td>05-Oct</td>\n",
       "      <td>never</td>\n",
       "      <td>better</td>\n",
       "      <td>6.733526</td>\n",
       "    </tr>\n",
       "    <tr>\n",
       "      <th>4</th>\n",
       "      <td>Never</td>\n",
       "      <td>moderately-designed</td>\n",
       "      <td>poor</td>\n",
       "      <td>0-5</td>\n",
       "      <td>0-5</td>\n",
       "      <td>sometimes</td>\n",
       "      <td>excellent</td>\n",
       "      <td>2.795359</td>\n",
       "    </tr>\n",
       "  </tbody>\n",
       "</table>\n",
       "</div>"
      ],
      "text/plain": [
       "      Salary             Learning      Infra Experience  School  \\\n",
       "0     Always        well-designed  excellent        10+     10+   \n",
       "1  Sometimes        well-designed       poor        0-5  05-Oct   \n",
       "2  Sometimes  moderately-designed  excellent        0-5     10+   \n",
       "3      Never  moderately-designed  excellent     05-Oct  05-Oct   \n",
       "4      Never  moderately-designed       poor        0-5     0-5   \n",
       "\n",
       "  Activity_based    English  Happiness  \n",
       "0          never  excellent   2.430043  \n",
       "1          never     better   7.268561  \n",
       "2      sometimes     better   8.788224  \n",
       "3          never     better   6.733526  \n",
       "4      sometimes  excellent   2.795359  "
      ]
     },
     "execution_count": 2,
     "metadata": {},
     "output_type": "execute_result"
    }
   ],
   "source": [
    "data2.head()"
   ]
  },
  {
   "cell_type": "code",
   "execution_count": 3,
   "metadata": {},
   "outputs": [
    {
     "data": {
      "text/html": [
       "<div>\n",
       "<style scoped>\n",
       "    .dataframe tbody tr th:only-of-type {\n",
       "        vertical-align: middle;\n",
       "    }\n",
       "\n",
       "    .dataframe tbody tr th {\n",
       "        vertical-align: top;\n",
       "    }\n",
       "\n",
       "    .dataframe thead th {\n",
       "        text-align: right;\n",
       "    }\n",
       "</style>\n",
       "<table border=\"1\" class=\"dataframe\">\n",
       "  <thead>\n",
       "    <tr style=\"text-align: right;\">\n",
       "      <th></th>\n",
       "      <th>Salary</th>\n",
       "      <th>Learning</th>\n",
       "      <th>Infra</th>\n",
       "      <th>Experience</th>\n",
       "      <th>School</th>\n",
       "      <th>Activity_based</th>\n",
       "      <th>English</th>\n",
       "      <th>Happiness</th>\n",
       "    </tr>\n",
       "  </thead>\n",
       "  <tbody>\n",
       "    <tr>\n",
       "      <th>85</th>\n",
       "      <td>Sometimes</td>\n",
       "      <td>moderately-designed</td>\n",
       "      <td>poor</td>\n",
       "      <td>0-5</td>\n",
       "      <td>10+</td>\n",
       "      <td>never</td>\n",
       "      <td>better</td>\n",
       "      <td>2.439835</td>\n",
       "    </tr>\n",
       "    <tr>\n",
       "      <th>86</th>\n",
       "      <td>Always</td>\n",
       "      <td>moderately-designed</td>\n",
       "      <td>poor</td>\n",
       "      <td>10+</td>\n",
       "      <td>0-5</td>\n",
       "      <td>sometimes</td>\n",
       "      <td>better</td>\n",
       "      <td>6.208638</td>\n",
       "    </tr>\n",
       "    <tr>\n",
       "      <th>87</th>\n",
       "      <td>Always</td>\n",
       "      <td>well-designed</td>\n",
       "      <td>good</td>\n",
       "      <td>10+</td>\n",
       "      <td>0-5</td>\n",
       "      <td>never</td>\n",
       "      <td>better</td>\n",
       "      <td>5.878094</td>\n",
       "    </tr>\n",
       "    <tr>\n",
       "      <th>88</th>\n",
       "      <td>Never</td>\n",
       "      <td>well-designed</td>\n",
       "      <td>good</td>\n",
       "      <td>05-Oct</td>\n",
       "      <td>05-Oct</td>\n",
       "      <td>sometimes</td>\n",
       "      <td>excellent</td>\n",
       "      <td>4.491038</td>\n",
       "    </tr>\n",
       "    <tr>\n",
       "      <th>89</th>\n",
       "      <td>Sometimes</td>\n",
       "      <td>moderately-designed</td>\n",
       "      <td>good</td>\n",
       "      <td>0-5</td>\n",
       "      <td>10+</td>\n",
       "      <td>always</td>\n",
       "      <td>excellent</td>\n",
       "      <td>8.079217</td>\n",
       "    </tr>\n",
       "  </tbody>\n",
       "</table>\n",
       "</div>"
      ],
      "text/plain": [
       "       Salary             Learning Infra Experience  School Activity_based  \\\n",
       "85  Sometimes  moderately-designed  poor        0-5     10+          never   \n",
       "86     Always  moderately-designed  poor        10+     0-5      sometimes   \n",
       "87     Always        well-designed  good        10+     0-5          never   \n",
       "88      Never        well-designed  good     05-Oct  05-Oct      sometimes   \n",
       "89  Sometimes  moderately-designed  good        0-5     10+         always   \n",
       "\n",
       "      English  Happiness  \n",
       "85     better   2.439835  \n",
       "86     better   6.208638  \n",
       "87     better   5.878094  \n",
       "88  excellent   4.491038  \n",
       "89  excellent   8.079217  "
      ]
     },
     "execution_count": 3,
     "metadata": {},
     "output_type": "execute_result"
    }
   ],
   "source": [
    "data2.tail()"
   ]
  },
  {
   "cell_type": "code",
   "execution_count": 4,
   "metadata": {},
   "outputs": [
    {
     "data": {
      "text/html": [
       "<div>\n",
       "<style scoped>\n",
       "    .dataframe tbody tr th:only-of-type {\n",
       "        vertical-align: middle;\n",
       "    }\n",
       "\n",
       "    .dataframe tbody tr th {\n",
       "        vertical-align: top;\n",
       "    }\n",
       "\n",
       "    .dataframe thead th {\n",
       "        text-align: right;\n",
       "    }\n",
       "</style>\n",
       "<table border=\"1\" class=\"dataframe\">\n",
       "  <thead>\n",
       "    <tr style=\"text-align: right;\">\n",
       "      <th></th>\n",
       "      <th>Salary</th>\n",
       "      <th>Learning</th>\n",
       "      <th>Infra</th>\n",
       "      <th>Experience</th>\n",
       "      <th>School</th>\n",
       "      <th>Activity_based</th>\n",
       "      <th>English</th>\n",
       "      <th>Happiness</th>\n",
       "    </tr>\n",
       "  </thead>\n",
       "  <tbody>\n",
       "    <tr>\n",
       "      <th>0</th>\n",
       "      <td>Always</td>\n",
       "      <td>well-designed</td>\n",
       "      <td>excellent</td>\n",
       "      <td>10+</td>\n",
       "      <td>10+</td>\n",
       "      <td>never</td>\n",
       "      <td>excellent</td>\n",
       "      <td>2.430043</td>\n",
       "    </tr>\n",
       "    <tr>\n",
       "      <th>1</th>\n",
       "      <td>Sometimes</td>\n",
       "      <td>well-designed</td>\n",
       "      <td>poor</td>\n",
       "      <td>0-5</td>\n",
       "      <td>05-Oct</td>\n",
       "      <td>never</td>\n",
       "      <td>better</td>\n",
       "      <td>7.268561</td>\n",
       "    </tr>\n",
       "    <tr>\n",
       "      <th>2</th>\n",
       "      <td>Sometimes</td>\n",
       "      <td>moderately-designed</td>\n",
       "      <td>excellent</td>\n",
       "      <td>0-5</td>\n",
       "      <td>10+</td>\n",
       "      <td>sometimes</td>\n",
       "      <td>better</td>\n",
       "      <td>8.788224</td>\n",
       "    </tr>\n",
       "    <tr>\n",
       "      <th>3</th>\n",
       "      <td>Never</td>\n",
       "      <td>moderately-designed</td>\n",
       "      <td>excellent</td>\n",
       "      <td>05-Oct</td>\n",
       "      <td>05-Oct</td>\n",
       "      <td>never</td>\n",
       "      <td>better</td>\n",
       "      <td>6.733526</td>\n",
       "    </tr>\n",
       "    <tr>\n",
       "      <th>4</th>\n",
       "      <td>Never</td>\n",
       "      <td>moderately-designed</td>\n",
       "      <td>poor</td>\n",
       "      <td>0-5</td>\n",
       "      <td>0-5</td>\n",
       "      <td>sometimes</td>\n",
       "      <td>excellent</td>\n",
       "      <td>2.795359</td>\n",
       "    </tr>\n",
       "    <tr>\n",
       "      <th>...</th>\n",
       "      <td>...</td>\n",
       "      <td>...</td>\n",
       "      <td>...</td>\n",
       "      <td>...</td>\n",
       "      <td>...</td>\n",
       "      <td>...</td>\n",
       "      <td>...</td>\n",
       "      <td>...</td>\n",
       "    </tr>\n",
       "    <tr>\n",
       "      <th>85</th>\n",
       "      <td>Sometimes</td>\n",
       "      <td>moderately-designed</td>\n",
       "      <td>poor</td>\n",
       "      <td>0-5</td>\n",
       "      <td>10+</td>\n",
       "      <td>never</td>\n",
       "      <td>better</td>\n",
       "      <td>2.439835</td>\n",
       "    </tr>\n",
       "    <tr>\n",
       "      <th>86</th>\n",
       "      <td>Always</td>\n",
       "      <td>moderately-designed</td>\n",
       "      <td>poor</td>\n",
       "      <td>10+</td>\n",
       "      <td>0-5</td>\n",
       "      <td>sometimes</td>\n",
       "      <td>better</td>\n",
       "      <td>6.208638</td>\n",
       "    </tr>\n",
       "    <tr>\n",
       "      <th>87</th>\n",
       "      <td>Always</td>\n",
       "      <td>well-designed</td>\n",
       "      <td>good</td>\n",
       "      <td>10+</td>\n",
       "      <td>0-5</td>\n",
       "      <td>never</td>\n",
       "      <td>better</td>\n",
       "      <td>5.878094</td>\n",
       "    </tr>\n",
       "    <tr>\n",
       "      <th>88</th>\n",
       "      <td>Never</td>\n",
       "      <td>well-designed</td>\n",
       "      <td>good</td>\n",
       "      <td>05-Oct</td>\n",
       "      <td>05-Oct</td>\n",
       "      <td>sometimes</td>\n",
       "      <td>excellent</td>\n",
       "      <td>4.491038</td>\n",
       "    </tr>\n",
       "    <tr>\n",
       "      <th>89</th>\n",
       "      <td>Sometimes</td>\n",
       "      <td>moderately-designed</td>\n",
       "      <td>good</td>\n",
       "      <td>0-5</td>\n",
       "      <td>10+</td>\n",
       "      <td>always</td>\n",
       "      <td>excellent</td>\n",
       "      <td>8.079217</td>\n",
       "    </tr>\n",
       "  </tbody>\n",
       "</table>\n",
       "<p>90 rows × 8 columns</p>\n",
       "</div>"
      ],
      "text/plain": [
       "       Salary             Learning      Infra Experience  School  \\\n",
       "0      Always        well-designed  excellent        10+     10+   \n",
       "1   Sometimes        well-designed       poor        0-5  05-Oct   \n",
       "2   Sometimes  moderately-designed  excellent        0-5     10+   \n",
       "3       Never  moderately-designed  excellent     05-Oct  05-Oct   \n",
       "4       Never  moderately-designed       poor        0-5     0-5   \n",
       "..        ...                  ...        ...        ...     ...   \n",
       "85  Sometimes  moderately-designed       poor        0-5     10+   \n",
       "86     Always  moderately-designed       poor        10+     0-5   \n",
       "87     Always        well-designed       good        10+     0-5   \n",
       "88      Never        well-designed       good     05-Oct  05-Oct   \n",
       "89  Sometimes  moderately-designed       good        0-5     10+   \n",
       "\n",
       "   Activity_based    English  Happiness  \n",
       "0           never  excellent   2.430043  \n",
       "1           never     better   7.268561  \n",
       "2       sometimes     better   8.788224  \n",
       "3           never     better   6.733526  \n",
       "4       sometimes  excellent   2.795359  \n",
       "..            ...        ...        ...  \n",
       "85          never     better   2.439835  \n",
       "86      sometimes     better   6.208638  \n",
       "87          never     better   5.878094  \n",
       "88      sometimes  excellent   4.491038  \n",
       "89         always  excellent   8.079217  \n",
       "\n",
       "[90 rows x 8 columns]"
      ]
     },
     "execution_count": 4,
     "metadata": {},
     "output_type": "execute_result"
    }
   ],
   "source": [
    "data2"
   ]
  },
  {
   "cell_type": "code",
   "execution_count": 5,
   "metadata": {
    "id": "uFGL_Qc0Joxz"
   },
   "outputs": [
    {
     "name": "stdout",
     "output_type": "stream",
     "text": [
      "<class 'pandas.core.frame.DataFrame'>\n",
      "RangeIndex: 90 entries, 0 to 89\n",
      "Data columns (total 8 columns):\n",
      " #   Column          Non-Null Count  Dtype  \n",
      "---  ------          --------------  -----  \n",
      " 0   Salary          90 non-null     object \n",
      " 1   Learning        90 non-null     object \n",
      " 2   Infra           90 non-null     object \n",
      " 3   Experience      90 non-null     object \n",
      " 4   School          90 non-null     object \n",
      " 5   Activity_based  90 non-null     object \n",
      " 6   English         90 non-null     object \n",
      " 7   Happiness       90 non-null     float64\n",
      "dtypes: float64(1), object(7)\n",
      "memory usage: 5.8+ KB\n"
     ]
    }
   ],
   "source": [
    "data2.info()"
   ]
  },
  {
   "cell_type": "code",
   "execution_count": 6,
   "metadata": {},
   "outputs": [
    {
     "data": {
      "text/html": [
       "<div>\n",
       "<style scoped>\n",
       "    .dataframe tbody tr th:only-of-type {\n",
       "        vertical-align: middle;\n",
       "    }\n",
       "\n",
       "    .dataframe tbody tr th {\n",
       "        vertical-align: top;\n",
       "    }\n",
       "\n",
       "    .dataframe thead th {\n",
       "        text-align: right;\n",
       "    }\n",
       "</style>\n",
       "<table border=\"1\" class=\"dataframe\">\n",
       "  <thead>\n",
       "    <tr style=\"text-align: right;\">\n",
       "      <th></th>\n",
       "      <th>Salary</th>\n",
       "      <th>Learning</th>\n",
       "      <th>Infra</th>\n",
       "      <th>Experience</th>\n",
       "      <th>School</th>\n",
       "      <th>Activity_based</th>\n",
       "      <th>English</th>\n",
       "      <th>Happiness</th>\n",
       "    </tr>\n",
       "  </thead>\n",
       "  <tbody>\n",
       "    <tr>\n",
       "      <th>0</th>\n",
       "      <td>False</td>\n",
       "      <td>False</td>\n",
       "      <td>False</td>\n",
       "      <td>False</td>\n",
       "      <td>False</td>\n",
       "      <td>False</td>\n",
       "      <td>False</td>\n",
       "      <td>False</td>\n",
       "    </tr>\n",
       "    <tr>\n",
       "      <th>1</th>\n",
       "      <td>False</td>\n",
       "      <td>False</td>\n",
       "      <td>False</td>\n",
       "      <td>False</td>\n",
       "      <td>False</td>\n",
       "      <td>False</td>\n",
       "      <td>False</td>\n",
       "      <td>False</td>\n",
       "    </tr>\n",
       "    <tr>\n",
       "      <th>2</th>\n",
       "      <td>False</td>\n",
       "      <td>False</td>\n",
       "      <td>False</td>\n",
       "      <td>False</td>\n",
       "      <td>False</td>\n",
       "      <td>False</td>\n",
       "      <td>False</td>\n",
       "      <td>False</td>\n",
       "    </tr>\n",
       "    <tr>\n",
       "      <th>3</th>\n",
       "      <td>False</td>\n",
       "      <td>False</td>\n",
       "      <td>False</td>\n",
       "      <td>False</td>\n",
       "      <td>False</td>\n",
       "      <td>False</td>\n",
       "      <td>False</td>\n",
       "      <td>False</td>\n",
       "    </tr>\n",
       "    <tr>\n",
       "      <th>4</th>\n",
       "      <td>False</td>\n",
       "      <td>False</td>\n",
       "      <td>False</td>\n",
       "      <td>False</td>\n",
       "      <td>False</td>\n",
       "      <td>False</td>\n",
       "      <td>False</td>\n",
       "      <td>False</td>\n",
       "    </tr>\n",
       "    <tr>\n",
       "      <th>...</th>\n",
       "      <td>...</td>\n",
       "      <td>...</td>\n",
       "      <td>...</td>\n",
       "      <td>...</td>\n",
       "      <td>...</td>\n",
       "      <td>...</td>\n",
       "      <td>...</td>\n",
       "      <td>...</td>\n",
       "    </tr>\n",
       "    <tr>\n",
       "      <th>85</th>\n",
       "      <td>False</td>\n",
       "      <td>False</td>\n",
       "      <td>False</td>\n",
       "      <td>False</td>\n",
       "      <td>False</td>\n",
       "      <td>False</td>\n",
       "      <td>False</td>\n",
       "      <td>False</td>\n",
       "    </tr>\n",
       "    <tr>\n",
       "      <th>86</th>\n",
       "      <td>False</td>\n",
       "      <td>False</td>\n",
       "      <td>False</td>\n",
       "      <td>False</td>\n",
       "      <td>False</td>\n",
       "      <td>False</td>\n",
       "      <td>False</td>\n",
       "      <td>False</td>\n",
       "    </tr>\n",
       "    <tr>\n",
       "      <th>87</th>\n",
       "      <td>False</td>\n",
       "      <td>False</td>\n",
       "      <td>False</td>\n",
       "      <td>False</td>\n",
       "      <td>False</td>\n",
       "      <td>False</td>\n",
       "      <td>False</td>\n",
       "      <td>False</td>\n",
       "    </tr>\n",
       "    <tr>\n",
       "      <th>88</th>\n",
       "      <td>False</td>\n",
       "      <td>False</td>\n",
       "      <td>False</td>\n",
       "      <td>False</td>\n",
       "      <td>False</td>\n",
       "      <td>False</td>\n",
       "      <td>False</td>\n",
       "      <td>False</td>\n",
       "    </tr>\n",
       "    <tr>\n",
       "      <th>89</th>\n",
       "      <td>False</td>\n",
       "      <td>False</td>\n",
       "      <td>False</td>\n",
       "      <td>False</td>\n",
       "      <td>False</td>\n",
       "      <td>False</td>\n",
       "      <td>False</td>\n",
       "      <td>False</td>\n",
       "    </tr>\n",
       "  </tbody>\n",
       "</table>\n",
       "<p>90 rows × 8 columns</p>\n",
       "</div>"
      ],
      "text/plain": [
       "    Salary  Learning  Infra  Experience  School  Activity_based  English  \\\n",
       "0    False     False  False       False   False           False    False   \n",
       "1    False     False  False       False   False           False    False   \n",
       "2    False     False  False       False   False           False    False   \n",
       "3    False     False  False       False   False           False    False   \n",
       "4    False     False  False       False   False           False    False   \n",
       "..     ...       ...    ...         ...     ...             ...      ...   \n",
       "85   False     False  False       False   False           False    False   \n",
       "86   False     False  False       False   False           False    False   \n",
       "87   False     False  False       False   False           False    False   \n",
       "88   False     False  False       False   False           False    False   \n",
       "89   False     False  False       False   False           False    False   \n",
       "\n",
       "    Happiness  \n",
       "0       False  \n",
       "1       False  \n",
       "2       False  \n",
       "3       False  \n",
       "4       False  \n",
       "..        ...  \n",
       "85      False  \n",
       "86      False  \n",
       "87      False  \n",
       "88      False  \n",
       "89      False  \n",
       "\n",
       "[90 rows x 8 columns]"
      ]
     },
     "execution_count": 6,
     "metadata": {},
     "output_type": "execute_result"
    }
   ],
   "source": [
    "data2.isnull()"
   ]
  },
  {
   "cell_type": "code",
   "execution_count": 7,
   "metadata": {},
   "outputs": [
    {
     "data": {
      "text/plain": [
       "Salary            0\n",
       "Learning          0\n",
       "Infra             0\n",
       "Experience        0\n",
       "School            0\n",
       "Activity_based    0\n",
       "English           0\n",
       "Happiness         0\n",
       "dtype: int64"
      ]
     },
     "execution_count": 7,
     "metadata": {},
     "output_type": "execute_result"
    }
   ],
   "source": [
    "data2.isnull().sum()"
   ]
  },
  {
   "cell_type": "code",
   "execution_count": 8,
   "metadata": {
    "id": "tqf-78e6Jox0"
   },
   "outputs": [
    {
     "data": {
      "text/plain": [
       "(90, 8)"
      ]
     },
     "execution_count": 8,
     "metadata": {},
     "output_type": "execute_result"
    }
   ],
   "source": [
    "data2.shape"
   ]
  },
  {
   "cell_type": "code",
   "execution_count": 9,
   "metadata": {},
   "outputs": [
    {
     "data": {
      "text/html": [
       "<div>\n",
       "<style scoped>\n",
       "    .dataframe tbody tr th:only-of-type {\n",
       "        vertical-align: middle;\n",
       "    }\n",
       "\n",
       "    .dataframe tbody tr th {\n",
       "        vertical-align: top;\n",
       "    }\n",
       "\n",
       "    .dataframe thead th {\n",
       "        text-align: right;\n",
       "    }\n",
       "</style>\n",
       "<table border=\"1\" class=\"dataframe\">\n",
       "  <thead>\n",
       "    <tr style=\"text-align: right;\">\n",
       "      <th></th>\n",
       "      <th>Happiness</th>\n",
       "    </tr>\n",
       "  </thead>\n",
       "  <tbody>\n",
       "    <tr>\n",
       "      <th>count</th>\n",
       "      <td>90.000000</td>\n",
       "    </tr>\n",
       "    <tr>\n",
       "      <th>mean</th>\n",
       "      <td>5.282906</td>\n",
       "    </tr>\n",
       "    <tr>\n",
       "      <th>std</th>\n",
       "      <td>2.427218</td>\n",
       "    </tr>\n",
       "    <tr>\n",
       "      <th>min</th>\n",
       "      <td>1.007130</td>\n",
       "    </tr>\n",
       "    <tr>\n",
       "      <th>25%</th>\n",
       "      <td>3.713075</td>\n",
       "    </tr>\n",
       "    <tr>\n",
       "      <th>50%</th>\n",
       "      <td>5.532153</td>\n",
       "    </tr>\n",
       "    <tr>\n",
       "      <th>75%</th>\n",
       "      <td>6.982698</td>\n",
       "    </tr>\n",
       "    <tr>\n",
       "      <th>max</th>\n",
       "      <td>9.958025</td>\n",
       "    </tr>\n",
       "  </tbody>\n",
       "</table>\n",
       "</div>"
      ],
      "text/plain": [
       "       Happiness\n",
       "count  90.000000\n",
       "mean    5.282906\n",
       "std     2.427218\n",
       "min     1.007130\n",
       "25%     3.713075\n",
       "50%     5.532153\n",
       "75%     6.982698\n",
       "max     9.958025"
      ]
     },
     "execution_count": 9,
     "metadata": {},
     "output_type": "execute_result"
    }
   ],
   "source": [
    "data2.describe()"
   ]
  },
  {
   "cell_type": "code",
   "execution_count": 10,
   "metadata": {
    "id": "qQp1s3gLJox2"
   },
   "outputs": [
    {
     "data": {
      "text/plain": [
       "Index(['Salary', 'Learning', 'Infra', 'Experience', 'School', 'Activity_based',\n",
       "       'English', 'Happiness'],\n",
       "      dtype='object')"
      ]
     },
     "execution_count": 10,
     "metadata": {},
     "output_type": "execute_result"
    }
   ],
   "source": [
    "data2.columns"
   ]
  },
  {
   "cell_type": "markdown",
   "metadata": {
    "id": "9U-x8Y-FJox3"
   },
   "source": [
    "## Pre-processing"
   ]
  },
  {
   "cell_type": "code",
   "execution_count": 11,
   "metadata": {
    "colab": {
     "base_uri": "https://localhost:8080/",
     "height": 229
    },
    "executionInfo": {
     "elapsed": 15,
     "status": "error",
     "timestamp": 1624343226118,
     "user": {
      "displayName": "hyd java",
      "photoUrl": "https://lh3.googleusercontent.com/a-/AOh14Gi_GOMKEZ6q0rnhev9mNoGwytWloL0T5AZ_3oEv=s64",
      "userId": "11252920809288514062"
     },
     "user_tz": -330
    },
    "id": "v0Enw0pCJox3",
    "outputId": "272c3ae4-d778-457b-b699-ccc28f097080"
   },
   "outputs": [],
   "source": [
    "from sklearn.preprocessing import LabelEncoder \n",
    "\n",
    "lab=LabelEncoder()\n",
    "\n",
    "data2['Salary']=lab.fit_transform(data2['Salary'])\n",
    "data2['Learning']=lab.fit_transform(data2['Learning'])\n",
    "data2['Infra']=lab.fit_transform(data2['Infra'])\n",
    "data2['Experience']=lab.fit_transform(data2['Experience'])\n",
    "data2['School']=lab.fit_transform(data2['School'])\n",
    "data2['Activity_based']=lab.fit_transform(data2['Activity_based'])\n",
    "data2['English']=lab.fit_transform(data2['English'])\n"
   ]
  },
  {
   "cell_type": "code",
   "execution_count": 12,
   "metadata": {
    "id": "TaouDZWfJox4"
   },
   "outputs": [
    {
     "data": {
      "text/html": [
       "<div>\n",
       "<style scoped>\n",
       "    .dataframe tbody tr th:only-of-type {\n",
       "        vertical-align: middle;\n",
       "    }\n",
       "\n",
       "    .dataframe tbody tr th {\n",
       "        vertical-align: top;\n",
       "    }\n",
       "\n",
       "    .dataframe thead th {\n",
       "        text-align: right;\n",
       "    }\n",
       "</style>\n",
       "<table border=\"1\" class=\"dataframe\">\n",
       "  <thead>\n",
       "    <tr style=\"text-align: right;\">\n",
       "      <th></th>\n",
       "      <th>Salary</th>\n",
       "      <th>Learning</th>\n",
       "      <th>Infra</th>\n",
       "      <th>Experience</th>\n",
       "      <th>School</th>\n",
       "      <th>Activity_based</th>\n",
       "      <th>English</th>\n",
       "      <th>Happiness</th>\n",
       "    </tr>\n",
       "  </thead>\n",
       "  <tbody>\n",
       "    <tr>\n",
       "      <th>0</th>\n",
       "      <td>0</td>\n",
       "      <td>2</td>\n",
       "      <td>0</td>\n",
       "      <td>2</td>\n",
       "      <td>2</td>\n",
       "      <td>1</td>\n",
       "      <td>1</td>\n",
       "      <td>2.430043</td>\n",
       "    </tr>\n",
       "    <tr>\n",
       "      <th>1</th>\n",
       "      <td>2</td>\n",
       "      <td>2</td>\n",
       "      <td>2</td>\n",
       "      <td>0</td>\n",
       "      <td>1</td>\n",
       "      <td>1</td>\n",
       "      <td>0</td>\n",
       "      <td>7.268561</td>\n",
       "    </tr>\n",
       "    <tr>\n",
       "      <th>2</th>\n",
       "      <td>2</td>\n",
       "      <td>0</td>\n",
       "      <td>0</td>\n",
       "      <td>0</td>\n",
       "      <td>2</td>\n",
       "      <td>2</td>\n",
       "      <td>0</td>\n",
       "      <td>8.788224</td>\n",
       "    </tr>\n",
       "    <tr>\n",
       "      <th>3</th>\n",
       "      <td>1</td>\n",
       "      <td>0</td>\n",
       "      <td>0</td>\n",
       "      <td>1</td>\n",
       "      <td>1</td>\n",
       "      <td>1</td>\n",
       "      <td>0</td>\n",
       "      <td>6.733526</td>\n",
       "    </tr>\n",
       "    <tr>\n",
       "      <th>4</th>\n",
       "      <td>1</td>\n",
       "      <td>0</td>\n",
       "      <td>2</td>\n",
       "      <td>0</td>\n",
       "      <td>0</td>\n",
       "      <td>2</td>\n",
       "      <td>1</td>\n",
       "      <td>2.795359</td>\n",
       "    </tr>\n",
       "  </tbody>\n",
       "</table>\n",
       "</div>"
      ],
      "text/plain": [
       "   Salary  Learning  Infra  Experience  School  Activity_based  English  \\\n",
       "0       0         2      0           2       2               1        1   \n",
       "1       2         2      2           0       1               1        0   \n",
       "2       2         0      0           0       2               2        0   \n",
       "3       1         0      0           1       1               1        0   \n",
       "4       1         0      2           0       0               2        1   \n",
       "\n",
       "   Happiness  \n",
       "0   2.430043  \n",
       "1   7.268561  \n",
       "2   8.788224  \n",
       "3   6.733526  \n",
       "4   2.795359  "
      ]
     },
     "execution_count": 12,
     "metadata": {},
     "output_type": "execute_result"
    }
   ],
   "source": [
    "data2.head()"
   ]
  },
  {
   "cell_type": "markdown",
   "metadata": {
    "id": "dcTM-y8SJox5"
   },
   "source": [
    "## Data Exploration"
   ]
  },
  {
   "cell_type": "code",
   "execution_count": 13,
   "metadata": {
    "colab": {
     "base_uri": "https://localhost:8080/",
     "height": 162
    },
    "executionInfo": {
     "elapsed": 9,
     "status": "error",
     "timestamp": 1624343227162,
     "user": {
      "displayName": "hyd java",
      "photoUrl": "https://lh3.googleusercontent.com/a-/AOh14Gi_GOMKEZ6q0rnhev9mNoGwytWloL0T5AZ_3oEv=s64",
      "userId": "11252920809288514062"
     },
     "user_tz": -330
    },
    "id": "V8IRUNynJox6",
    "outputId": "31e7a2b3-f9a8-46e0-b03c-27d03fa8ee5e"
   },
   "outputs": [
    {
     "data": {
      "text/plain": [
       "<AxesSubplot:xlabel='Salary', ylabel='count'>"
      ]
     },
     "execution_count": 13,
     "metadata": {},
     "output_type": "execute_result"
    },
    {
     "data": {
      "image/png": "[encoded data removed]",
      "text/plain": [
       "<Figure size 640x480 with 1 Axes>"
      ]
     },
     "metadata": {},
     "output_type": "display_data"
    }
   ],
   "source": [
    "sns.countplot(x='Salary',data=data2)"
   ]
  },
  {
   "cell_type": "code",
   "execution_count": 14,
   "metadata": {
    "colab": {
     "base_uri": "https://localhost:8080/",
     "height": 162
    },
    "executionInfo": {
     "elapsed": 11,
     "status": "error",
     "timestamp": 1624343228229,
     "user": {
      "displayName": "hyd java",
      "photoUrl": "https://lh3.googleusercontent.com/a-/AOh14Gi_GOMKEZ6q0rnhev9mNoGwytWloL0T5AZ_3oEv=s64",
      "userId": "11252920809288514062"
     },
     "user_tz": -330
    },
    "id": "-lxh0ZVHJox7",
    "outputId": "88a5441e-09b3-4c7b-8d58-cfb3f15b6f0d"
   },
   "outputs": [
    {
     "data": {
      "text/plain": [
       "<AxesSubplot:xlabel='Activity_based', ylabel='count'>"
      ]
     },
     "execution_count": 14,
     "metadata": {},
     "output_type": "execute_result"
    },
    {
     "data": {
      "image/png": "[encoded data removed]",
      "text/plain": [
       "<Figure size 640x480 with 1 Axes>"
      ]
     },
     "metadata": {},
     "output_type": "display_data"
    }
   ],
   "source": [
    "sns.countplot(x='Activity_based',data=data2)"
   ]
  },
  {
   "cell_type": "code",
   "execution_count": 15,
   "metadata": {},
   "outputs": [
    {
     "data": {
      "text/plain": [
       "<AxesSubplot:xlabel='Experience', ylabel='count'>"
      ]
     },
     "execution_count": 15,
     "metadata": {},
     "output_type": "execute_result"
    },
    {
     "data": {
      "image/png": "[encoded data removed]",
      "text/plain": [
       "<Figure size 640x480 with 1 Axes>"
      ]
     },
     "metadata": {},
     "output_type": "display_data"
    }
   ],
   "source": [
    "sns.countplot(x='Experience',data=data2)"
   ]
  },
  {
   "cell_type": "code",
   "execution_count": 16,
   "metadata": {},
   "outputs": [
    {
     "data": {
      "text/plain": [
       "<AxesSubplot:xlabel='English', ylabel='count'>"
      ]
     },
     "execution_count": 16,
     "metadata": {},
     "output_type": "execute_result"
    },
    {
     "data": {
      "image/png": "[encoded data removed]",
      "text/plain": [
       "<Figure size 640x480 with 1 Axes>"
      ]
     },
     "metadata": {},
     "output_type": "display_data"
    }
   ],
   "source": [
    "sns.countplot(x='English',data=data2)"
   ]
  },
  {
   "cell_type": "code",
   "execution_count": 17,
   "metadata": {},
   "outputs": [
    {
     "data": {
      "text/plain": [
       "<AxesSubplot:xlabel='Activity_based', ylabel='count'>"
      ]
     },
     "execution_count": 17,
     "metadata": {},
     "output_type": "execute_result"
    },
    {
     "data": {
      "image/png": "[encoded data removed]",
      "text/plain": [
       "<Figure size 640x480 with 1 Axes>"
      ]
     },
     "metadata": {},
     "output_type": "display_data"
    }
   ],
   "source": [
    "sns.countplot(x='Activity_based',data=data2)"
   ]
  },
  {
   "cell_type": "code",
   "execution_count": 18,
   "metadata": {},
   "outputs": [
    {
     "data": {
      "text/plain": [
       "<AxesSubplot:xlabel='Infra', ylabel='count'>"
      ]
     },
     "execution_count": 18,
     "metadata": {},
     "output_type": "execute_result"
    },
    {
     "data": {
      "image/png": "[encoded data removed]",
      "text/plain": [
       "<Figure size 640x480 with 1 Axes>"
      ]
     },
     "metadata": {},
     "output_type": "display_data"
    }
   ],
   "source": [
    "sns.countplot(x='Infra',data=data2)"
   ]
  },
  {
   "cell_type": "markdown",
   "metadata": {
    "id": "9xcnM4MVJox8"
   },
   "source": [
    "## Data Splitting"
   ]
  },
  {
   "cell_type": "code",
   "execution_count": 19,
   "metadata": {
    "id": "nmi2lT86Jox8"
   },
   "outputs": [
    {
     "data": {
      "text/html": [
       "<div>\n",
       "<style scoped>\n",
       "    .dataframe tbody tr th:only-of-type {\n",
       "        vertical-align: middle;\n",
       "    }\n",
       "\n",
       "    .dataframe tbody tr th {\n",
       "        vertical-align: top;\n",
       "    }\n",
       "\n",
       "    .dataframe thead th {\n",
       "        text-align: right;\n",
       "    }\n",
       "</style>\n",
       "<table border=\"1\" class=\"dataframe\">\n",
       "  <thead>\n",
       "    <tr style=\"text-align: right;\">\n",
       "      <th></th>\n",
       "      <th>Salary</th>\n",
       "      <th>Learning</th>\n",
       "      <th>Infra</th>\n",
       "      <th>Experience</th>\n",
       "      <th>School</th>\n",
       "      <th>Activity_based</th>\n",
       "      <th>English</th>\n",
       "    </tr>\n",
       "  </thead>\n",
       "  <tbody>\n",
       "    <tr>\n",
       "      <th>0</th>\n",
       "      <td>0</td>\n",
       "      <td>2</td>\n",
       "      <td>0</td>\n",
       "      <td>2</td>\n",
       "      <td>2</td>\n",
       "      <td>1</td>\n",
       "      <td>1</td>\n",
       "    </tr>\n",
       "    <tr>\n",
       "      <th>1</th>\n",
       "      <td>2</td>\n",
       "      <td>2</td>\n",
       "      <td>2</td>\n",
       "      <td>0</td>\n",
       "      <td>1</td>\n",
       "      <td>1</td>\n",
       "      <td>0</td>\n",
       "    </tr>\n",
       "    <tr>\n",
       "      <th>2</th>\n",
       "      <td>2</td>\n",
       "      <td>0</td>\n",
       "      <td>0</td>\n",
       "      <td>0</td>\n",
       "      <td>2</td>\n",
       "      <td>2</td>\n",
       "      <td>0</td>\n",
       "    </tr>\n",
       "    <tr>\n",
       "      <th>3</th>\n",
       "      <td>1</td>\n",
       "      <td>0</td>\n",
       "      <td>0</td>\n",
       "      <td>1</td>\n",
       "      <td>1</td>\n",
       "      <td>1</td>\n",
       "      <td>0</td>\n",
       "    </tr>\n",
       "    <tr>\n",
       "      <th>4</th>\n",
       "      <td>1</td>\n",
       "      <td>0</td>\n",
       "      <td>2</td>\n",
       "      <td>0</td>\n",
       "      <td>0</td>\n",
       "      <td>2</td>\n",
       "      <td>1</td>\n",
       "    </tr>\n",
       "  </tbody>\n",
       "</table>\n",
       "</div>"
      ],
      "text/plain": [
       "   Salary  Learning  Infra  Experience  School  Activity_based  English\n",
       "0       0         2      0           2       2               1        1\n",
       "1       2         2      2           0       1               1        0\n",
       "2       2         0      0           0       2               2        0\n",
       "3       1         0      0           1       1               1        0\n",
       "4       1         0      2           0       0               2        1"
      ]
     },
     "execution_count": 19,
     "metadata": {},
     "output_type": "execute_result"
    }
   ],
   "source": [
    "x=data2.iloc[:,data2.columns!='Happiness']\n",
    "y=data2.iloc[:,data2.columns=='Happiness']\n",
    "\n",
    "#x.shape\n",
    "\n",
    "#x.head()\n",
    "\n",
    "x.head()"
   ]
  },
  {
   "cell_type": "code",
   "execution_count": 20,
   "metadata": {
    "id": "SJMoIsUPJox9"
   },
   "outputs": [],
   "source": [
    "from sklearn.model_selection import train_test_split\n",
    "from sklearn.metrics import accuracy_score,confusion_matrix,recall_score, roc_curve, auc\n"
   ]
  },
  {
   "cell_type": "code",
   "execution_count": 21,
   "metadata": {
    "colab": {
     "base_uri": "https://localhost:8080/",
     "height": 229
    },
    "executionInfo": {
     "elapsed": 13,
     "status": "error",
     "timestamp": 1624343229265,
     "user": {
      "displayName": "hyd java",
      "photoUrl": "https://lh3.googleusercontent.com/a-/AOh14Gi_GOMKEZ6q0rnhev9mNoGwytWloL0T5AZ_3oEv=s64",
      "userId": "11252920809288514062"
     },
     "user_tz": -330
    },
    "id": "NzyBn-saJox-",
    "outputId": "a45a317c-bf48-4515-e42b-5dcfb50733ab"
   },
   "outputs": [
    {
     "data": {
      "text/html": [
       "<div>\n",
       "<style scoped>\n",
       "    .dataframe tbody tr th:only-of-type {\n",
       "        vertical-align: middle;\n",
       "    }\n",
       "\n",
       "    .dataframe tbody tr th {\n",
       "        vertical-align: top;\n",
       "    }\n",
       "\n",
       "    .dataframe thead th {\n",
       "        text-align: right;\n",
       "    }\n",
       "</style>\n",
       "<table border=\"1\" class=\"dataframe\">\n",
       "  <thead>\n",
       "    <tr style=\"text-align: right;\">\n",
       "      <th></th>\n",
       "      <th>Happiness</th>\n",
       "    </tr>\n",
       "  </thead>\n",
       "  <tbody>\n",
       "    <tr>\n",
       "      <th>21</th>\n",
       "      <td>6.059103</td>\n",
       "    </tr>\n",
       "    <tr>\n",
       "      <th>40</th>\n",
       "      <td>1.389471</td>\n",
       "    </tr>\n",
       "    <tr>\n",
       "      <th>8</th>\n",
       "      <td>5.298360</td>\n",
       "    </tr>\n",
       "    <tr>\n",
       "      <th>86</th>\n",
       "      <td>6.208638</td>\n",
       "    </tr>\n",
       "    <tr>\n",
       "      <th>3</th>\n",
       "      <td>6.733526</td>\n",
       "    </tr>\n",
       "  </tbody>\n",
       "</table>\n",
       "</div>"
      ],
      "text/plain": [
       "    Happiness\n",
       "21   6.059103\n",
       "40   1.389471\n",
       "8    5.298360\n",
       "86   6.208638\n",
       "3    6.733526"
      ]
     },
     "execution_count": 21,
     "metadata": {},
     "output_type": "execute_result"
    }
   ],
   "source": [
    "xtrain,xtest,ytrain,ytest=train_test_split(x,y,test_size=0.3)\n",
    "\n",
    "xtrain.head()\n",
    "\n",
    "ytrain.head()"
   ]
  },
  {
   "cell_type": "code",
   "execution_count": 23,
   "metadata": {},
   "outputs": [],
   "source": [
    "from sklearn.linear_model import LinearRegression\n",
    "from sklearn.ensemble import AdaBoostRegressor,GradientBoostingRegressor,RandomForestRegressor\n",
    "from sklearn.ensemble import StackingRegressor\n",
    "#base models\n",
    "base_models=[\n",
    "    ('ABR',AdaBoostRegressor(n_estimators=50)),\n",
    "    ('GBR',GradientBoostingRegressor(n_estimators=50)),\n",
    "    ('RFR',RandomForestRegressor(n_estimators=50))\n",
    "]\n",
    "#Final Model\n",
    "final_model=LinearRegression()\n",
    "\n",
    "#stacking Regressor\n",
    "classifier=StackingRegressor(estimators=base_models,final_estimator=final_model)\n",
    "classifier.fit(xtrain,ytrain)\n",
    "ypred=classifier.predict(xtest)\n"
   ]
  },
  {
   "cell_type": "code",
   "execution_count": 24,
   "metadata": {},
   "outputs": [
    {
     "name": "stdout",
     "output_type": "stream",
     "text": [
      "R2 Score  0.09806738427008665\n",
      "MSE: 4.959738188992186\n",
      "MAE: 1.92796304588329\n",
      "RMSE : 2.2270469660499272\n"
     ]
    }
   ],
   "source": [
    "from sklearn.metrics import r2_score,mean_absolute_error,mean_squared_error\n",
    "#Evaluation of Model\n",
    "print(\"R2 Score \" ,r2_score(ytest,ypred))\n",
    "mse=mean_squared_error(ytest,ypred)\n",
    "mae=mean_absolute_error(ytest,ypred)\n",
    "print(\"MSE:\",mse)\n",
    "print(\"MAE:\",mae)\n",
    "print(\"RMSE :\",np.sqrt(mse))"
   ]
  },
  {
   "cell_type": "code",
   "execution_count": 25,
   "metadata": {},
   "outputs": [],
   "source": [
    "### Create a Pickle file using serialization \n",
    "import pickle\n",
    "pickle_out = open(\"classifier.pkl\",\"wb\")\n",
    "pickle.dump(classifier, pickle_out)\n",
    "pickle_out.close()"
   ]
  },
  {
   "cell_type": "code",
   "execution_count": null,
   "metadata": {},
   "outputs": [],
   "source": []
  }
 ],
 "metadata": {
  "colab": {
   "provenance": []
  },
  "kernelspec": {
   "display_name": "Python 3 (ipykernel)",
   "language": "python",
   "name": "python3"
  },
  "language_info": {
   "codemirror_mode": {
    "name": "ipython",
    "version": 3
   },
   "file_extension": ".py",
   "mimetype": "text/x-python",
   "name": "python",
   "nbconvert_exporter": "python",
   "pygments_lexer": "ipython3",
   "version": "3.9.13"
  }
 },
 "nbformat": 4,
 "nbformat_minor": 1
}
